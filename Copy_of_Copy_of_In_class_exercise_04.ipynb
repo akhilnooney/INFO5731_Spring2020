{
  "nbformat": 4,
  "nbformat_minor": 0,
  "metadata": {
    "colab": {
      "name": "Copy of Copy of In-class-exercise-04.ipynb",
      "provenance": [],
      "collapsed_sections": [],
      "toc_visible": true,
      "include_colab_link": true
    },
    "kernelspec": {
      "name": "python3",
      "display_name": "Python 3"
    }
  },
  "cells": [
    {
      "cell_type": "markdown",
      "metadata": {
        "id": "view-in-github",
        "colab_type": "text"
      },
      "source": [
        "<a href=\"https://colab.research.google.com/github/akhilnooney/INFO5731_Spring2020/blob/master/Copy_of_Copy_of_In_class_exercise_04.ipynb\" target=\"_parent\"><img src=\"https://colab.research.google.com/assets/colab-badge.svg\" alt=\"Open In Colab\"/></a>"
      ]
    },
    {
      "cell_type": "markdown",
      "metadata": {
        "id": "EuX00KHNeSpw",
        "colab_type": "text"
      },
      "source": [
        "# **The fourth in-class-exercise**"
      ]
    },
    {
      "cell_type": "markdown",
      "metadata": {
        "id": "s-vTOb03hG1f",
        "colab_type": "text"
      },
      "source": [
        "`# 1. Text Data Preprocessing\n",
        "\n",
        "Here is a [legal case](https://github.com/unt-iialab/INFO5731_Spring2020/blob/master/In_class_exercise/01-05-1%20%20Adams%20v%20Tanner.txt) we collected from westlaw, please follow the steps we mentioned in lesson 5 to clean the data:\n",
        "\n",
        "\n",
        "\n",
        "## 1.1 Basic feature extraction using text data\n",
        "\n",
        "*   Number of sentences\n",
        "*   Number of words\n",
        "*   Number of characters\n",
        "*   Average word length\n",
        "*   Number of stopwords\n",
        "*   Number of special characters\n",
        "*   Number of numerics\n",
        "*   Number of uppercase words\n",
        "\n",
        "## 1.2 Basic Text Pre-processing of text data\n",
        "\n",
        "*   Lower casing\n",
        "*   Punctuation removal\n",
        "*   Stopwords removal\n",
        "*   Frequent words removal\n",
        "*   Rare words removal\n",
        "*   Spelling correction\n",
        "*   Tokenization\n",
        "*   Stemming\n",
        "*   Lemmatization\n",
        "\n",
        "## 1.3 Save all the **clean sentences** to a **csv file** (one column, each raw is a sentence) after finishing all the steps above.\n",
        "\n",
        "\n",
        "## 1.4 Advance Text Processing\n",
        "\n",
        "*   Calculate the term frequency of all the terms.\n",
        "*   Print out top 10 1-gram, top 10 2-grams, and top 10 2-grams terms as features.\n"
      ]
    },
    {
      "cell_type": "code",
      "metadata": {
        "id": "vR0L3_CreM_A",
        "colab_type": "code",
        "outputId": "c8bd02c5-3223-4b3b-918d-306b3ea1460c",
        "colab": {
          "base_uri": "https://localhost:8080/",
          "height": 1000
        }
      },
      "source": [
        "# Write your code here\n",
        "with open (\"/content/sample_data/01-05-1  Adams v Tanner.txt\", \"r\") as file:\n",
        "      text = file.readlines() \n",
        "      for line in text: \n",
        "          print(line.strip()) \n",
        "          \n",
        "      \n",
        "\n"
      ],
      "execution_count": 0,
      "outputs": [
        {
          "output_type": "stream",
          "text": [
            "\n",
            "5 Ala. 740\n",
            "Supreme Court of Alabama.\n",
            "ADAMS\n",
            "v.\n",
            "TANNER AND HORTON.\n",
            "June Term, 1843.\n",
            "Synopsis\n",
            "WRIT of Error to the Circuit Court of Sumter.\n",
            "\n",
            "\n",
            "\n",
            "West Headnotes (2)\n",
            "\n",
            "\n",
            "[1]\n",
            "Chattel Mortgages\n",
            "Crops\n",
            "A growing crop has such an existence as to be the subject-matter of a mortgage or other contract which passes an interest to vest in possession, either immediately or at a future time.\n",
            "4 Cases that cite this headnote\n",
            "\n",
            "[2]\n",
            "Creditors’ Remedies\n",
            "Lien and Priority\n",
            "Under St.1821, prohibiting a levy on a crop until it has been gathered, no lien attaches in favor of a fi. fa. on a growing crop, nor does such lien attach until after the crop has been gathered.\n",
            "5 Cases that cite this headnote\n",
            "\n",
            "**1 This was a trial of the right of property under the statute. In November, 1840, an execution issued from the circuit court of Sumter, at the suit of the plaintiff in error, requiring the sheriff of that county, to make of the goods, &c., of Allen Harrison and others, the sum of thirty-seven hundred and seventy-seven 80-100 dollars, besides costs. This execution was levied on thirty bales of cotton, as the property of Allen Harrison, which was claimed, and a bond given to try the right. An issue was made up to try the question of the liability of the cotton to the plaintiff’s execution, and submitted to a jury. On the trial, a bill of exceptions was sealed at the instance of the plaintiff. The plaintiff proved that he recovered his judgment in October, 1839; that an execution *741 was issued thereon on the 7th Nov. thereafter, and that alias and pluries fieri facias’, issued regularly up to the time levy was made; that the cotton levied on was growed on the plantation of Harrison, and cultivated by the hands in his service. It was proved by the claimants, by the production of a written contract, that Harrison, on the twenty-second of May, 1840, in consideration that the claimants were involved, as indorsers for Burton & Harrison of Sumter county, and were then exposed to an execution, amounting to upwards of fourteen thousand dollars, bargained and sold to the claimants all his growing crop of cotton &c., consisting of one hundred and twenty acres, &c. Allen Harrison promised and obliged himself to give up his crop to the use of the claimants at any time to save them from suffering as his indorsers; if the crop matured and was gathered he undertook to deliver the cotton in Gainesville. The claimants came from Tennessee, (where they resided) about the first of September, 1840, bringing with them three or four white laborers, and took possession of the crop and slaves, and with the latter, and white laborers, gathered the cotton, prepared it for market, and when levied on, it was in a ware-house in Gainesville. The plaintiff then proved by Harrison, that the claimants took possession of the crop, while he was absent, and disposed of it without his consent. It was admitted, that the contract was made in good faith.\n",
            "The court charged the jury, that the plaintiff had no lien by virtue of his judgment, and execution on the growing crop; that Harrison had a right to convey it, without being in any manner restrained by them; that the writing adduced, was a sale of the crop, but if it was not, and the lien of the fieri facias would have attached upon it, when gathered, yet if the claimants obtained possession on the first of September, and controlled the gathering of the crop, then no lien attached, and it was not subject to the levy.\n",
            "Attorneys and Law Firms\n",
            "R. H. SMITH, for the plaintiff, in error, made the following points.--1. The crop of Harrison, must, in May, 1840, have been in an immature state, and it is insisted, was not the subject of a sale. 2. By the common law, a growing crop could be levied on and sold, [1 Salk. Rep. 361; 1 Bos. & P. Rep. 307; 6 East’s Rep. 604, note 1; 2 Johns. Rep. 418, 422; 7 Mass. Rep. 34,] and our statue, [[[Aik. Dig. § 41, p. 167,] which forbids the levy of an *742 execution on a growing crop, is to receive a strict construction. It merely inhibits the levy, but the lien attaches, and a levy and sale may be made after the crop matures, and is gathered. 3. The contract does not purport to convey the growing crop, but is a mere executory agreement, requiring some act to be done by Harrison, in order to invest the claimants with the right of property. [Chit. on Con. 112, 207; 3 Johns. Rep. 338, 424; 5 Wend. Rep. 26; 13 Johns. Rep. 235; 8 Dowl. Rep, 693;] and until this act was done, the crop, no matter by who gathered, because liable to be seized for Harrison’s debts. A court of chancery would not compel a specific performance of the contract at the claimant’s instance. 4. The charge of the court is also objectionable in deciding disputed facts.\n",
            "W. M. MURPHY, with whom was W. G. JONES, for the defendant--cited the act of 1821, [Aik. Dig. 167,] which declares it to be lawful to levy an execution on a planted crop, until it is gathered, and contended that no lien attached in favor of the plaintiff. This being the case, the defendant in execution was not restrained from making the contract which he did with the claimants.\n",
            "**2 The lien of an execution is destroyed by an injunction, because it takes away the right to levy it. In short, whenever the right to levy an execution is but temporarily suspended, or withdrawn, the lien is during that time lost. [[[[Whipple v. Foot, 2 Johns. Rep. 216; 3 Wash. C. C. Rep. 66; 4 How. Rep. 130.]\n",
            "It is admitted that the contract between the defendant in execution, and the claimants, was in good faith, if so, the severance and removal of the cotton gave the latter a good title against all creditors of the former.\n",
            "Opinion\n",
            "\n",
            "COLLIER, C. J.\n",
            "\n",
            "There can be no doubt that a growing crop has such an existence as to be the subject matter of a sale, mortgage, or other contract which possess an interest to vest in possession, either immediately or at some future time. This proposition has frequently been assumed as unquestionable; the point of inquiry generally being, whether under a statute of frauds, such as the 29 Chas. 2, it is a mere chattel, and transferrable by parol without writing. [Chitty on Con. 241-2, 332; Whipple v. Foot, 2 Johns. Rep. 422; Stewart v. Doughty, 9 Johns. Rep. 112; *743 Austin v. Sawyer, 9 Cow. Rep. 39. See also Ravesies v. Lee & Alston, at last term.] The contract set out in the bill of exceptions, we are inclined to think evidences rather a mortgage than an absolute sale. It recites that the claimants are involved as indorsers of a mercantile firm, of which the defendant was a partner; that an execution for upwards of fourteen thousand dollars against their estate, is in the sheriff’s hands, and that a conveyance is made of the crop of cotton, corn and oats, which the grantor agrees to give up at any time to the use of the claimants, so as to prevent injury to them as indorsers. The defendant in execution might at any time have divested the interest which the contract vested in the claimants, by discharging their liability as his indorsers, or a judgment creditor might have satisfied the lien, and when the crop was gathered, have levied on, and sold it under a fieri facias.\n",
            "We will then consider the writing under which the claimants assert a right, as a mortgage with a power to take possession any time during the year, unless they should be relieved from their engagements as indorsers. It is not pretended that their liability has been satisfied, and it is admitted that the parties have acted with good faith, so that it is a dry question of law, whether the right of the plaintiff, or the claimants shall prevail. Assuming for the present that the execution of the plaintiffs did not operate a lien upon the planted crop previous to the contract of May, 1840, we will inquire whether the defendant in execution had such an interest as could be levied on and sold.\n",
            "The claimants had previous to the levy of the execution taken possession of the crop, prepared the cotton for market, and removed it to a ware-house. This possession, it is insisted, was a trespass, because it was acquired in the absence of the defendant in execution, and without his consent then given. Conceding the truth of the facts stated in the bill of exceptions, and we think it will not follow, that the possession of the claimants is a nullity, and that the case must be considered as if they had never interfered with the crop. The contract contains an express undertaking to give up the crop at any time the claimants might require it for their indemnity, and if they took possession of it in the absence of the grantor, (though without his consent,) if he subsequently acquiesced in it, the inference would be, if necessary, that their acts were approved by him. Taking this to be clear *744 law, and it will be seen, that the defendant in execution at the time of the levy had nothing more than a mere equitable right to redeem the cotton by paying the debts indorsed by the claimants. He had no possession coupled with this equity, but only a naked equity, which it has been held cannot be reached by an ordinary execution. [Perkins and Elliott v. Mayfield, 5 Porter’s Rep. 182.]\n",
            "**3 This brings us back to the question, whether the execution of the plaintiff was a lien on the growing crop, so as to defeat the mortgage to the claimants. It has been frequently mooted whether, at common law, corn, &c., before it is gathered, can be seized under a fieri facias. Mr. Dane, in remarking upon this point, says, “The American editor of Bacon’s Abridgment, says, ‘Wheat growing in the ground is a chattel, and subject to be taken in execution; and the sheriff may suffer it to grow till harvest, and then cut and sell it; or may perhaps sell it growing, and the purchaser will then be entitled to enter, for the purpose of cutting and carrying it away.” [He cites Whipple v. Foot, ut supra, also Poole’s case, Salk. 368; 1 Bos. & P. 397; 6 East, 604, n.] But Whipple v. Foot seems to be the only case that supports his position, that unripe wheat or corn may be taken in execution; and the same editor states that nothing can be taken in execution which cannot be sold. This position, says the learned commentator, is no doubt law. But it is unnecessary to consider how this matter stands at common law. The first section of the act of 1821, “To prevent sheriffs and other officers from levying executions in certain cases, enacts, that “It shall not be lawful for any sheriff or other officer, to levy a writ of fieri facias or other execution on the planted crop of a debtor, or person against whom an execution may issue, until the crop is gathered.” [Aik. Dig. 167.] Now here is an express inhibition to levy an execution on a crop while it remains on, or in the ground, and until it is severed from the soil to which it owes its growth. In respect to property thus situated, will the lien of an execution attach eo instanti upon its being placed in the hands of an officer? If so, the act cited, will only have the effect of keeping the right to levy it in abeyance until the crop is gathered. The lien of an execution does, not only operate so as to prevent the debtor from disposing of the property on which it attaches, but gives to the creditor the right to have it sold to satisfy his *745 judgment. The lien and the right to levy are intimately connected, and if the latter be taken away, or suspended, the effect, at common law, is the destruction of the former. This principle is fully established by Mansony and Hurtell v. The President, &c. of the Bank of the United States, and its assignees, and the citations contained in the opinion of the court in that case, as also in my opinion in Wood v. Gary, et al., both decided at the last term. That it was competent for the legislature to have made it unlawful to levy an execution on particular property, until its condition was changed, and still to give it a continuing lien, cannot be doubted; but there is nothing in the act in question to indicate that such is its intention. If the object was merely to suspend the sale, until the crop was gathered, it would have been very easy to have said so in explicit terms, but declaring as the statute does, in totidem verbis, that the execution shall not be levied, the legislature must be supposed to have meant what they have expressed. The act was induced by the doubts which existed as to what was the common law, and was intended to remove those doubts by declaring what should be the law in future. It does not create a lien or authorize a levy in a case in which the law, as it then existed, was silent. The idea that the lien attached upon the planted crop as soon as the execution was delivered to the sheriff, though the right to levy it was postponed until a severance took place, is attempted to be deduced from the last words of the section cited, viz: “until the crop is gathered.” These words cannot, upon any just principles of construction be regarded so potent as to give to an execution a retrospective effect. They do not refer to the lien, if they did they would postpone it until the crop was gathered; but it is the levy they relate to and postpone until that event takes place.\n",
            "**4 The right to levy an execution on a planted crop, then, being expressly taken away by the statute, the lien which is connected with and consequent upon that right, never attaches until severance. This being the case, the right of the defendant in execution to make the contract which he did, is unquestionable, and the title of the claimants, coupled as it was with the possession, was paramount to any lien which the execution could exert.\n",
            "The circuit judge may have mistaken the law in supposing that the contract was a sale, but if he did, an error in that respect was very immaterial, for whether a sale or mortgage, as we have *746 seen, under the facts of the case, the defendant in execution has no interest that could be seised and sold under execution. There is no assumption of any material fact in the charge; but the possession of the claimant, the time when acquired, the gathering of the crop, &c., are all referred to the determination of the jury; who are instructed, if they find them according to the evidence adduced, that no lien ever attached in favor of the plaintiff. The bona fides of the contract was conceded, so that no charge was necessary on that point, and it could not with propriety enter into the inquiry of the jury.\n",
            "It results from what has been said, that the judgment of the circuit court is affirmed.\n",
            "\n",
            "DISSENTING OPINION.\n",
            "\n",
            "ORMOND, J.\n",
            "**4 The statute which presents the question before the court is, that “it shall not be lawful for any sheriff or other officer to levy a writ of fieei facias or other execution, on the planted crop of a debtor, or person against whom an execution may issue, until the crop is gathered.” [Clay’s Dig. 210, § 46.]\n",
            "I shall not enter upon the enquiry, whether, at common law, an execution could be levied upon a growing crop, though I apprehend, it would not be difficult to maintain the affirmative of the proposition. It is sufficient for my purpose, that the statute supposes such to have been the law, as it doubtless was the practice.\n",
            "This act must be considered in connection with the other acts upon the same subject. The policy of the State, as indicated by these statutes, is undeniably that all the property of a debtor, real and personal, to which he has a legal title, shall be subject to sale by execution, and it appears to me that it would be difficult to assign a reason for the exemption of this species of property from the claims of judgment creditors, and for giving to the defendant in execution the right to dispose of it. It appears to me, with all deference, that the argument that because the sheriff was prohibited from levying on a ““planted crop,” that therefore the execution had lost its lien, and the debtor had the right to sell it, is a non sequitur. The mischief which the statute designed to remedy was, the sacrifice which would be necessarily made by the sale of an immature crop: the statute enables the debtor to retain it until it matures, and by severing it from the soil to put it *747 in a condition to bring its value--the lien in the mean time continuing in the plaintiff in execution.\n",
            "**5 If further confirmation of the correctness of this view were necessary, it will be found, I think, in the language employed by the legislature. The sheriff is forbidden to levy on a “planted crop” until the crop is gathered. Now, if the view taken by the majority of the court, is correct, the right secured to the plaintiff in execution, of levying on the crop after it is gathered, may be frustrated, as it was in this case, by a sale by the defendant in execution, whilst the crop is in an immature state. The construction which has been put upon the statute, involves the singular anomaly, that the legislature, for the protection of the debtor, has forbidden the plaintiff in execution to sell the property of his debtor, because it is not in a condition to bring its value, and yet permits the debtor, voluntarily, by a sale, to submit to the same sacrifice, for his own benefit. It is, in effect, a gift to the defendant in execution, of the growing crop, provided he does not gather it himself, but disposes of it in its then condition. This, I feel a thorough conviction, was not the intention of the legislature; but that it was to secure him from loss, by prohibiting a levy and sale of the crop, until it was gathered, when the temporary suspension of the right to sell, ceased.\n",
            "All Citations\n",
            "5 Ala. 740, 1843 WL 284\n",
            "End of Document\n",
            "© 2019 Thomson Reuters. No claim to original U.S. Government Works.\n",
            "Citing References (9)\n",
            "Treatment\n",
            "Title\n",
            "Date\n",
            "Type\n",
            "Depth\n",
            "Headnote(s)\n",
            "Cited by\n",
            "1.  Booker v. Jones’s Adm’x\n",
            "55 Ala. 266, 271 , Ala.\n",
            "Trover for Conversion of Cotton, with Counts in Case. APPEAL from the Circuit Court of Hale. Tried before the Hon. M. J. SAFFOLD.\n",
            "Dec Term 1876\n",
            "Case\n",
            "—\n",
            "Cited by\n",
            "2.  Lehman, Durr & Co. v. Marshall\n",
            "47 Ala. 362, 376 , Ala.\n",
            "[TROVER FOR CONVERSION OF COTTON.] APPEAL from the City Court of Montgomery. Tried before Hon. JOHN D. CUNNINGHAM.\n",
            "Jan Term 1872\n",
            "Case\n",
            "—\n",
            "Cited by\n",
            "3.  Bibb v. Janney\n",
            "45 Ala. 329, 334 , Ala.\n",
            "[GARNISHMENT; WAGES; WAIVER OF EXEMPTION.] APPEAL from City Court of Montgomery. Tried before Hon. JOHN D. CUNNINGHAM.\n",
            "Jan Term 1871\n",
            "Case\n",
            "—\n",
            "Cited by\n",
            "4.  McKenzie v. Lampley\n",
            "31 Ala. 526, 527 , Ala.\n",
            "[TRIAL OF RIGHT OF PROPERTY IN COTTON.] APPEAL from the Circuit Court of Barbour. Tried before the Hon. S. D. HALE.\n",
            "Jan Term 1858\n",
            "Case\n",
            "—\n",
            "Cited by\n",
            "5.  Evans v. Lamar\n",
            "21 Ala. 333, 335+ , Ala.\n",
            "ERROR to the Circuit Court of Autauga. Tried before the Hon. A. B. MOORE.\n",
            "Jun Term 1852\n",
            "Case\n",
            "—\n",
            "Cited by\n",
            "6.  Dewey v. Bowman\n",
            "8 Cal. 145, 147 , Cal.\n",
            "The judgment of the Court below, against Jacob S. Cohen, should be reversed, for the following reasons: Because the finding of the Court was, so far as Cohen was concerned,...\n",
            "Jul Term 1857\n",
            "Case\n",
            "—\n",
            "Mentioned by\n",
            "7.  Rees v. Coats\n",
            "65 Ala. 256, 258 , Ala.\n",
            "Trover for Conversion of Three Bales of Cotton. APPEAL from the Circuit Court of Etowah. Tried before the Hon. WM. L. WHITLOCK.\n",
            "Nov Term 1880\n",
            "Case\n",
            "—\n",
            "Mentioned by\n",
            "8.  Edwards v. Thompson\n",
            "4 S.W. 913, 914 , Tenn.\n",
            "Appeal from circuit court, Weakley county.\n",
            "May 1887\n",
            "Case\n",
            "—\n",
            "—\n",
            "9.  Growing crops as subject to levy and seizure under attachment or execution\n",
            "103 A.L.R. 464\n",
            "Generally, at common law, growing crops raised by annual planting, while still attached to the soil, are regarded as personal chattels, subject to levy and seizure under attachment...\n",
            "1936\n",
            "ALR\n",
            "—\n",
            "—\n",
            "Table of Authorities (3)\n",
            "Treatment\n",
            "Referenced Title\n",
            "Type\n",
            "Depth\n",
            "Quoted\n",
            "Page Number\n",
            "Mentioned\n",
            "1.  Austin v. Sawyer\n",
            "9 Cow. 39, N.Y.Sup., 1828\n",
            "Parol evidence is not admissible to contradict, or substantially vary, a written contract. And where A. quit-claimed land to W., on which a crop of wheat was growing, reserving the...\n",
            "Case\n",
            "2\n",
            "Cited\n",
            "2.  Perkins v. Mayfield\n",
            "5 Port. 182, Ala., 1837\n",
            "On writ of error to the Circuit Court of Tuskaloosa.\n",
            "Case\n",
            "2+\n",
            "Mentioned\n",
            "3.  Stewart v. Doughty\n",
            "9 Johns. 108, N.Y.Sup., 1812\n",
            "A. let to B. a farm for six years, and A. agreed “to render, yield and pay to A. the one half of all the wheat, rye, corn and other grain, raised on the farm in each year, in the...\n",
            "Case\n",
            "2\n",
            "Filings\n",
            "There are no Filings for this citation.\n",
            "Negative Treatment\n",
            "There are no Negative Treatment results for this citation.\n",
            "History\n",
            "There are no History results for this citation.\n"
          ],
          "name": "stdout"
        }
      ]
    },
    {
      "cell_type": "code",
      "metadata": {
        "id": "8ukg8XjoI0mH",
        "colab_type": "code",
        "outputId": "2d5f39b0-d5d2-44a0-a8ae-16d488527fa2",
        "colab": {
          "base_uri": "https://localhost:8080/",
          "height": 35
        }
      },
      "source": [
        "!pip install pysbd"
      ],
      "execution_count": 0,
      "outputs": [
        {
          "output_type": "stream",
          "text": [
            "Requirement already satisfied: pysbd in /usr/local/lib/python3.6/dist-packages (0.2.3)\n"
          ],
          "name": "stdout"
        }
      ]
    },
    {
      "cell_type": "code",
      "metadata": {
        "id": "4HZET00lIQCQ",
        "colab_type": "code",
        "outputId": "f3464f0e-cb6f-4872-ab1e-34f359421b83",
        "colab": {
          "base_uri": "https://localhost:8080/",
          "height": 106
        }
      },
      "source": [
        "import nltk\n",
        "nltk.download('stopwords')\n",
        "nltk.download('punkt')"
      ],
      "execution_count": 0,
      "outputs": [
        {
          "output_type": "stream",
          "text": [
            "[nltk_data] Downloading package stopwords to /root/nltk_data...\n",
            "[nltk_data]   Package stopwords is already up-to-date!\n",
            "[nltk_data] Downloading package punkt to /root/nltk_data...\n",
            "[nltk_data]   Package punkt is already up-to-date!\n"
          ],
          "name": "stdout"
        },
        {
          "output_type": "execute_result",
          "data": {
            "text/plain": [
              "True"
            ]
          },
          "metadata": {
            "tags": []
          },
          "execution_count": 188
        }
      ]
    },
    {
      "cell_type": "code",
      "metadata": {
        "id": "8oVMduaElS8Y",
        "colab_type": "code",
        "outputId": "0f0cae15-dedc-4cc1-b235-b5f5b5d30571",
        "colab": {
          "base_uri": "https://localhost:8080/",
          "height": 159
        }
      },
      "source": [
        "import pysbd\n",
        "import re\n",
        "from nltk.corpus import stopwords\n",
        "from nltk.tokenize import word_tokenize \n",
        "punctuations_remove=[]\n",
        "clean_data=[]\n",
        "words_count=[]\n",
        "char_len=[]\n",
        "Avg_word_length=[]\n",
        "upper_case_words=[]\n",
        "with open(\"/content/sample_data/01-05-1  Adams v Tanner.txt\") as files:\n",
        "  t=files.read()\n",
        "sentence_seg= pysbd.Segmenter(language=\"en\", clean=False)\n",
        "print(f\"Number of Sentences : {len(sentence_seg.segment(t))}\")\n",
        "#Question 1.1\n",
        "#Data Cleaning\n",
        "for a in sentence_seg.segment(t):\n",
        "  pattern = '[0-9]'\n",
        "  lines = re.sub(r'[^\\w\\s]','',a)\n",
        "  num_remo=re.sub(pattern, '', lines)\n",
        "  punctuations_remove.append(num_remo)\n",
        "punctuations_remove = list(filter(None, punctuations_remove)) \n",
        "for b in punctuations_remove:\n",
        "  if b==' ':\n",
        "    continue\n",
        "  else:\n",
        "    clean_data.append(b)\n",
        "#Word Count and Char Count and Upper case words count\n",
        "for words in clean_data:\n",
        "    words_count.append(len(words.split()))\n",
        "    char_len.append(len(words.replace(' ', '')))\n",
        "    a=len(words.split())\n",
        "    b=len(words.replace(' ', ''))\n",
        "    Avg_word_length.append(b/a)\n",
        "    upper_case_words.append(len(re.findall(r'[A-Z]',words)))\n",
        "\n",
        "#Stop Words Count\n",
        "stop_words=stopwords.words(\"english\")\n",
        "count=0\n",
        "for words in clean_data:\n",
        "  splitting_words=word_tokenize(words)\n",
        "  for temp in splitting_words:\n",
        "    if temp in stop_words:\n",
        "      count=count+1\n",
        "#Number of Special Characters and Numbers\n",
        "digits=0\n",
        "special_char=0\n",
        "for i in sentence_seg.segment(t):\n",
        "  for j in i:\n",
        "      if (j.isalpha()):\n",
        "        continue\n",
        "      elif(j==' '):\n",
        "        continue\n",
        "      elif(j.isdigit()):\n",
        "        digits=digits+1\n",
        "      else:\n",
        "        special_char=special_char+1\n",
        "print(f\"Words Count : {sum(words_count)}\")\n",
        "print(f\"Character Count :{sum(char_len)}\")\n",
        "print(f\"Average word length :{sum(Avg_word_length)/len(clean_data)}\")\n",
        "print(f\"Number of Stop Words :{count}\") \n",
        "print(f\"Special Characters count :{special_char}\")\n",
        "print(f\"Digits Count :{digits}\")\n",
        "print(f\"Upper_Case_Words_Count :{sum(upper_case_words)}\")\n",
        "\n",
        "\n",
        "\n",
        "  \n",
        "\n",
        "\n"
      ],
      "execution_count": 0,
      "outputs": [
        {
          "output_type": "stream",
          "text": [
            "Number of Sentences : 220\n",
            "Words Count : 3529\n",
            "Character Count :15548\n",
            "Average word length :4.566896963571333\n",
            "Number of Stop Words :1722\n",
            "Special Characters count :818\n",
            "Digits Count :356\n",
            "Upper_Case_Words_Count :695\n"
          ],
          "name": "stdout"
        }
      ]
    },
    {
      "cell_type": "code",
      "metadata": {
        "id": "BuuthPzqWzFD",
        "colab_type": "code",
        "colab": {}
      },
      "source": [
        "#1.2 Basic Text Pre-processing of text data\n",
        "#Punctuations Removal\n",
        " Punctuations_removal=[]\n",
        "final_data=[]\n",
        "lower_case_final=[]\n",
        "final_sentence=[]\n",
        "frequency_list=[]\n",
        "final=[]\n",
        "for a in sentence_seg.segment(t):\n",
        "  pattern = '[0-9]'\n",
        "  lines = re.sub(r'[^\\w\\s]','',a)\n",
        "  num_remo=re.sub(pattern, '', lines)\n",
        "  Punctuations_removal.append(num_remo)\n",
        "punctuations_removal = list(filter(None, Punctuations_removal)) #To remove empty elements in the list\n",
        "for b in Punctuations_removal:\n",
        "  if b=='':\n",
        "    continue\n",
        "  elif b==' ':\n",
        "    continue\n",
        "  else:\n",
        "    final_data.append(b)\n",
        "#Lower Case \n",
        "for lower_case in final_data:\n",
        "  lower_case_final.append(lower_case.lower())\n",
        "stop_words=stopwords.words(\"english\")\n",
        "#Stop Words Removal\n",
        "for stop_words_d in lower_case_final:\n",
        "  stop_words_removal=[]\n",
        "  splitting_words=word_tokenize(stop_words_d)\n",
        "  for y in splitting_words:\n",
        "    if y not in stop_words:\n",
        "      stop_words_removal.append(y)\n",
        "  final_sentence.append(' '.join(stop_words_removal))\n",
        "\n",
        "      \n",
        "\n",
        "\n"
      ],
      "execution_count": 0,
      "outputs": []
    },
    {
      "cell_type": "code",
      "metadata": {
        "colab_type": "code",
        "id": "IG40HldCX5OO",
        "colab": {}
      },
      "source": [
        "# Frequent Words Removal\n",
        "import collections\n",
        "top_freq=[]\n",
        "words_final=[]\n",
        "frequency_list=[]\n",
        "words=[]\n",
        "least_freq=[]\n",
        "words_final_least=[]\n",
        "for x in final_sentence:\n",
        "  frequency_list.append(word_tokenize(x))\n",
        "for f in frequency_list:\n",
        "  for z in f:\n",
        "    words.append(z)\n",
        "counter = collections.Counter(words)\n",
        "for d in counter.most_common(10):#Top 10 words Removal\n",
        "  top_freq.append(d[0])\n",
        "for y in final_sentence:\n",
        "  dummy=[]\n",
        "  split=word_tokenize(y)\n",
        "  for i in split:\n",
        "    if i not in top_freq:\n",
        "      dummy.append(i)\n",
        "  words_final.append(' '.join(dummy))\n",
        "#Rare words Removal\n",
        "for t in counter.most_common()[:-6:-1]:#Top 5 Rare Words Removal\n",
        "  least_freq.append(t[0])\n",
        "for z in words_final:\n",
        "  dummys=[]\n",
        "  splits=word_tokenize(z)\n",
        "  for q in splits:\n",
        "    if q not in least_freq:\n",
        "      dummys.append(q)\n",
        "  words_final_least.append(' '.join(dummys))\n",
        "  words_final_least=list(filter(None,words_final_least))# Empty Element Removal\n",
        "\n",
        "\n",
        "\n",
        "    \n",
        "  \n",
        "  "
      ],
      "execution_count": 0,
      "outputs": []
    },
    {
      "cell_type": "code",
      "metadata": {
        "id": "9idQhyNjibMa",
        "colab_type": "code",
        "outputId": "37694490-0908-44eb-ed49-f9c94e101a32",
        "colab": {
          "base_uri": "https://localhost:8080/",
          "height": 35
        }
      },
      "source": [
        "!pip install pyspellchecker "
      ],
      "execution_count": 0,
      "outputs": [
        {
          "output_type": "stream",
          "text": [
            "Requirement already satisfied: pyspellchecker in /usr/local/lib/python3.6/dist-packages (0.5.4)\n"
          ],
          "name": "stdout"
        }
      ]
    },
    {
      "cell_type": "code",
      "metadata": {
        "id": "GRpvTXkQzMxn",
        "colab_type": "code",
        "colab": {}
      },
      "source": [
        "#Spell Check\n",
        "from spellchecker import SpellChecker\n",
        "spell_correction = SpellChecker()\n",
        "spell_word=[]\n",
        "for spelling in words_final_least:\n",
        "  duplicate=[]\n",
        "  token=word_tokenize(spelling)\n",
        "  for spel in token:\n",
        "    duplicate.append(spell_correction.correction(spel))\n",
        "  spell_word.append(' '.join(duplicate))"
      ],
      "execution_count": 0,
      "outputs": []
    },
    {
      "cell_type": "code",
      "metadata": {
        "id": "Ad1fN5G23p7d",
        "colab_type": "code",
        "colab": {}
      },
      "source": [
        "#Stemming\n",
        "from nltk.stem import PorterStemmer\n",
        "final_stemmings=[]\n",
        "stemmer=PorterStemmer()\n",
        "for stem in spell_word:\n",
        "  sentence_filter_stemmings=[]\n",
        "  tokens_stem=word_tokenize(stem)\n",
        "  for stem_token in tokens_stem:\n",
        "    stemming=stemmer.stem(stem_token)\n",
        "    sentence_filter_stemmings.append(stemming)\n",
        "  final_stemmings.append(' '.join(sentence_filter_stemmings))\n"
      ],
      "execution_count": 0,
      "outputs": []
    },
    {
      "cell_type": "code",
      "metadata": {
        "id": "OjXUqW3U8VE9",
        "colab_type": "code",
        "outputId": "d6546e6b-e407-4abd-e154-ef88748959f7",
        "colab": {
          "base_uri": "https://localhost:8080/",
          "height": 70
        }
      },
      "source": [
        "nltk.download('wordnet')"
      ],
      "execution_count": 0,
      "outputs": [
        {
          "output_type": "stream",
          "text": [
            "[nltk_data] Downloading package wordnet to /root/nltk_data...\n",
            "[nltk_data]   Unzipping corpora/wordnet.zip.\n"
          ],
          "name": "stdout"
        },
        {
          "output_type": "execute_result",
          "data": {
            "text/plain": [
              "True"
            ]
          },
          "metadata": {
            "tags": []
          },
          "execution_count": 242
        }
      ]
    },
    {
      "cell_type": "code",
      "metadata": {
        "id": "jW1dvuOI61n9",
        "colab_type": "code",
        "outputId": "11b54db7-3a2c-4efe-84af-3c518311ba85",
        "colab": {
          "base_uri": "https://localhost:8080/",
          "height": 55
        }
      },
      "source": [
        "#Lemmatization\n",
        "from nltk.stem import WordNetLemmatizer \n",
        "import pandas as pd\n",
        "final_sentence_lemmatize=[]\n",
        "lemmatizer = WordNetLemmatizer() \n",
        "for lem in final_stemmings:\n",
        "  sentence_filter_Lemmatization=[]\n",
        "  tokens_lem=word_tokenize(lem)\n",
        "  for lem_token in tokens_lem:\n",
        "    lemmatization_words=lemmatizer.lemmatize(lem_token)\n",
        "    sentence_filter_Lemmatization.append(lemmatization_words)\n",
        "  final_sentence_lemmatize.append(' '.join(sentence_filter_Lemmatization))\n",
        "\n",
        "#Question 1.3\n",
        "df=pd.DataFrame(final_sentence_lemmatize,columns=['Data'])\n",
        "df.to_csv(\"Cleaned_Data.csv\")\n",
        "#Question 1.4\n",
        "#Term Frequency\n",
        "freq_list=[]\n",
        "words_c=[]\n",
        "for fre in final_sentence:\n",
        "  freq_list.append(word_tokenize(fre))\n",
        "for fi in freq_list:\n",
        "  for zi in fi:\n",
        "    words_c.append(zi)\n",
        "Term_frequency= collections.Counter(words_c)\n",
        "print(Term_frequency)\n"
      ],
      "execution_count": 0,
      "outputs": [
        {
          "output_type": "stream",
          "text": [
            "Counter({'execution': 50, 'crop': 49, 'lien': 25, 'levy': 25, 'v': 22, 'claimants': 22, 'right': 21, 'case': 21, 'court': 20, 'gathered': 19, 'growing': 16, 'contract': 16, 'rep': 16, 'ala': 15, 'law': 15, 'cotton': 14, 'possession': 13, 'plaintiff': 13, 'sale': 13, 'time': 12, 'may': 12, 'defendant': 12, 'upon': 11, 'term': 10, 'circuit': 10, 'property': 10, 'harrison': 10, 'statute': 9, 'c': 9, 'debtor': 9, 'cited': 9, 'levied': 8, 'made': 8, 'would': 8, 'subject': 8, 'act': 8, 'planted': 8, 'sheriff': 7, 'judgment': 7, 'sold': 7, 'common': 7, 'johns': 7, 'whether': 7, 'taken': 7, 'error': 6, 'mortgage': 6, 'facias': 6, 'indorsers': 6, 'attached': 6, 'could': 6, 'shall': 6, 'appeal': 6, 'tried': 6, 'hon': 6, 'interest': 5, 'question': 5, 'fieri': 5, 'give': 5, 'without': 5, 'title': 5, 'sell': 5, 'legislature': 5, 'writ': 4, 'attaches': 4, 'jury': 4, 'took': 4, 'good': 4, 'must': 4, 'dig': 4, 'also': 4, 'away': 4, 'whipple': 4, 'foot': 4, 'opinion': 4, 'corn': 4, 'wheat': 4, 'effect': 4, 'condition': 4, 'treatment': 4, 'mentioned': 4, 'sumter': 3, 'chattel': 3, 'crops': 3, 'future': 3, 'cases': 3, 'creditors': 3, 'favor': 3, 'trial': 3, 'issued': 3, 'county': 3, 'allen': 3, 'dollars': 3, 'issue': 3, 'liability': 3, 'bill': 3, 'exceptions': 3, 'proved': 3, 'hands': 3, 'first': 3, 'latter': 3, 'consent': 3, 'admitted': 3, 'faith': 3, 'writing': 3, 'immature': 3, 'state': 3, 'p': 3, 'aik': 3, 'construction': 3, 'mere': 3, 'matter': 3, 'charge': 3, 'facts': 3, 'w': 3, 'lawful': 3, 'severance': 3, 'j': 3, 'point': 3, 'last': 3, 'think': 3, 'prevent': 3, 'might': 3, 'though': 3, 'necessary': 3, 'nothing': 3, 'says': 3, 'enter': 3, 'levying': 3, 'officer': 3, 'soil': 3, 'results': 3, 'trover': 3, 'conversion': 3, 'jan': 3, 'citation': 3, 'headnotes': 2, 'existence': 2, 'vest': 2, 'either': 2, 'immediately': 2, 'cite': 2, 'headnote': 2, 'prohibiting': 2, 'attach': 2, 'requiring': 2, 'make': 2, 'hundred': 2, 'bales': 2, 'given': 2, 'try': 2, 'plaintiffs': 2, 'instance': 2, 'nov': 2, 'written': 2, 'involved': 2, 'upwards': 2, 'fourteen': 2, 'thousand': 2, 'one': 2, 'use': 2, 'gainesville': 2, 'september': 2, 'three': 2, 'white': 2, 'laborers': 2, 'prepared': 2, 'market': 2, 'warehouse': 2, 'convey': 2, 'restrained': 2, 'adduced': 2, 'yet': 2, 'gathering': 2, 'following': 2, 'insisted': 2, 'salk': 2, 'bos': 2, 'merely': 2, 'matures': 2, 'done': 2, 'con': 2, 'seized': 2, 'debts': 2, 'takes': 2, 'suspended': 2, 'lost': 2, 'former': 2, 'doubt': 2, 'proposition': 2, 'frequently': 2, 'unquestionable': 2, 'inquiry': 2, 'generally': 2, 'parol': 2, 'stewart': 2, 'doughty': 2, 'austin': 2, 'sawyer': 2, 'cow': 2, 'sheriffs': 2, 'grantor': 2, 'creditor': 2, 'satisfied': 2, 'consider': 2, 'year': 2, 'operate': 2, 'previous': 2, 'acquired': 2, 'absence': 2, 'considered': 2, 'never': 2, 'express': 2, 'acts': 2, 'seen': 2, 'coupled': 2, 'equity': 2, 'perkins': 2, 'mayfield': 2, 'us': 2, 'editor': 2, 'ground': 2, 'purpose': 2, 'position': 2, 'states': 2, 'section': 2, 'person': 2, 'respect': 2, 'connected': 2, 'citations': 2, 'still': 2, 'continuing': 2, 'intention': 2, 'said': 2, 'declaring': 2, 'doubts': 2, 'existed': 2, 'place': 2, 'words': 2, 'regarded': 2, 'postpone': 2, 'evidence': 2, 'difficult': 2, 'personal': 2, 'appears': 2, 'exemption': 2, 'sacrifice': 2, 'put': 2, 'bring': 2, 'view': 2, 'forbidden': 2, 'type': 2, 'depth': 2, 'hale': 2, 'city': 2, 'montgomery': 2, 'john': 2, 'cunningham': 2, 'b': 2, 'cal': 2, 'cohen': 2, 'seizure': 2, 'attachment': 2, 'alr': 2, 'raised': 2, 'nysup': 2, 'farm': 2, 'filings': 2, 'negative': 2, 'history': 2, 'supreme': 1, 'alabama': 1, 'adams': 1, 'tanner': 1, 'horton': 1, 'june': 1, 'synopsis': 1, 'west': 1, 'mortgages': 1, 'subjectmatter': 1, 'passes': 1, 'remedies': 1, 'priority': 1, 'st': 1, 'fi': 1, 'fa': 1, 'november': 1, 'suit': 1, 'goods': 1, 'others': 1, 'sum': 1, 'thirtyseven': 1, 'seventyseven': 1, 'besides': 1, 'costs': 1, 'thirty': 1, 'claimed': 1, 'bond': 1, 'submitted': 1, 'sealed': 1, 'recovered': 1, 'october': 1, 'thereon': 1, 'th': 1, 'thereafter': 1, 'alias': 1, 'pluries': 1, 'regularly': 1, 'growed': 1, 'plantation': 1, 'cultivated': 1, 'service': 1, 'production': 1, 'twentysecond': 1, 'consideration': 1, 'burton': 1, 'exposed': 1, 'amounting': 1, 'bargained': 1, 'consisting': 1, 'twenty': 1, 'acres': 1, 'promised': 1, 'obliged': 1, 'save': 1, 'suffering': 1, 'matured': 1, 'undertook': 1, 'deliver': 1, 'came': 1, 'tennessee': 1, 'resided': 1, 'bringing': 1, 'four': 1, 'slaves': 1, 'absent': 1, 'disposed': 1, 'charged': 1, 'virtue': 1, 'manner': 1, 'obtained': 1, 'controlled': 1, 'attorneys': 1, 'firms': 1, 'r': 1, 'h': 1, 'smith': 1, 'points': 1, 'easts': 1, 'note': 1, 'mass': 1, 'statue': 1, 'forbids': 1, 'receive': 1, 'strict': 1, 'inhibits': 1, 'purport': 1, 'executory': 1, 'agreement': 1, 'order': 1, 'invest': 1, 'chit': 1, 'wend': 1, 'dowl': 1, 'liable': 1, 'harrisons': 1, 'chancery': 1, 'compel': 1, 'specific': 1, 'performance': 1, 'objectionable': 1, 'deciding': 1, 'disputed': 1, 'murphy': 1, 'g': 1, 'jones': 1, 'defendantcited': 1, 'declares': 1, 'contended': 1, 'making': 1, 'destroyed': 1, 'injunction': 1, 'short': 1, 'whenever': 1, 'temporarily': 1, 'withdrawn': 1, 'wash': 1, 'removal': 1, 'gave': 1, 'collier': 1, 'possess': 1, 'assumed': 1, 'frauds': 1, 'chas': 1, 'transferrable': 1, 'chitty': 1, 'see': 1, 'ravesies': 1, 'lee': 1, 'alston': 1, 'set': 1, 'inclined': 1, 'evidences': 1, 'rather': 1, 'absolute': 1, 'recites': 1, 'mercantile': 1, 'firm': 1, 'partner': 1, 'estate': 1, 'conveyance': 1, 'oats': 1, 'agrees': 1, 'injury': 1, 'divested': 1, 'vested': 1, 'discharging': 1, 'assert': 1, 'power': 1, 'take': 1, 'unless': 1, 'relieved': 1, 'engagements': 1, 'pretended': 1, 'parties': 1, 'acted': 1, 'dry': 1, 'prevail': 1, 'assuming': 1, 'present': 1, 'inquire': 1, 'removed': 1, 'trespass': 1, 'conceding': 1, 'truth': 1, 'stated': 1, 'follow': 1, 'nullity': 1, 'interfered': 1, 'contains': 1, 'undertaking': 1, 'require': 1, 'indemnity': 1, 'subsequently': 1, 'acquiesced': 1, 'inference': 1, 'approved': 1, 'taking': 1, 'clear': 1, 'equitable': 1, 'redeem': 1, 'paying': 1, 'indorsed': 1, 'naked': 1, 'held': 1, 'reached': 1, 'ordinary': 1, 'elliott': 1, 'porters': 1, 'brings': 1, 'back': 1, 'defeat': 1, 'mooted': 1, 'mr': 1, 'dane': 1, 'remarking': 1, 'american': 1, 'bacons': 1, 'abridgment': 1, 'suffer': 1, 'grow': 1, 'till': 1, 'harvest': 1, 'cut': 1, 'perhaps': 1, 'purchaser': 1, 'entitled': 1, 'cutting': 1, 'carrying': 1, 'cites': 1, 'ut': 1, 'supra': 1, 'pooles': 1, 'east': 1, 'n': 1, 'seems': 1, 'supports': 1, 'unripe': 1, 'learned': 1, 'commentator': 1, 'unnecessary': 1, 'stands': 1, 'officers': 1, 'executions': 1, 'certain': 1, 'enacts': 1, 'inhibition': 1, 'remains': 1, 'severed': 1, 'owes': 1, 'growth': 1, 'thus': 1, 'situated': 1, 'eo': 1, 'instanti': 1, 'placed': 1, 'keeping': 1, 'abeyance': 1, 'disposing': 1, 'gives': 1, 'satisfy': 1, 'intimately': 1, 'destruction': 1, 'principle': 1, 'fully': 1, 'established': 1, 'mansony': 1, 'hurtell': 1, 'president': 1, 'bank': 1, 'united': 1, 'assignees': 1, 'contained': 1, 'wood': 1, 'gary': 1, 'et': 1, 'al': 1, 'decided': 1, 'competent': 1, 'unlawful': 1, 'particular': 1, 'changed': 1, 'doubted': 1, 'indicate': 1, 'object': 1, 'suspend': 1, 'easy': 1, 'explicit': 1, 'terms': 1, 'totidem': 1, 'verbis': 1, 'supposed': 1, 'meant': 1, 'expressed': 1, 'induced': 1, 'intended': 1, 'remove': 1, 'create': 1, 'authorize': 1, 'silent': 1, 'idea': 1, 'soon': 1, 'delivered': 1, 'postponed': 1, 'attempted': 1, 'deduced': 1, 'viz': 1, 'principles': 1, 'potent': 1, 'retrospective': 1, 'refer': 1, 'relate': 1, 'event': 1, 'expressly': 1, 'consequent': 1, 'paramount': 1, 'exert': 1, 'judge': 1, 'mistaken': 1, 'supposing': 1, 'immaterial': 1, 'seised': 1, 'assumption': 1, 'material': 1, 'fact': 1, 'claimant': 1, 'referred': 1, 'determination': 1, 'instructed': 1, 'find': 1, 'according': 1, 'ever': 1, 'bona': 1, 'fides': 1, 'conceded': 1, 'propriety': 1, 'affirmed': 1, 'dissenting': 1, 'ormond': 1, 'presents': 1, 'fieei': 1, 'clays': 1, 'enquiry': 1, 'apprehend': 1, 'maintain': 1, 'affirmative': 1, 'sufficient': 1, 'supposes': 1, 'doubtless': 1, 'practice': 1, 'connection': 1, 'policy': 1, 'indicated': 1, 'statutes': 1, 'undeniably': 1, 'real': 1, 'legal': 1, 'assign': 1, 'reason': 1, 'species': 1, 'claims': 1, 'giving': 1, 'dispose': 1, 'deference': 1, 'argument': 1, 'prohibited': 1, 'therefore': 1, 'non': 1, 'sequitur': 1, 'mischief': 1, 'designed': 1, 'remedy': 1, 'necessarily': 1, 'enables': 1, 'retain': 1, 'severing': 1, 'valuethe': 1, 'mean': 1, 'confirmation': 1, 'correctness': 1, 'found': 1, 'language': 1, 'employed': 1, 'majority': 1, 'correct': 1, 'secured': 1, 'frustrated': 1, 'whilst': 1, 'involves': 1, 'singular': 1, 'anomaly': 1, 'protection': 1, 'value': 1, 'permits': 1, 'voluntarily': 1, 'submit': 1, 'benefit': 1, 'gift': 1, 'provided': 1, 'gather': 1, 'disposes': 1, 'feel': 1, 'thorough': 1, 'conviction': 1, 'secure': 1, 'loss': 1, 'temporary': 1, 'suspension': 1, 'ceased': 1, 'wl': 1, 'end': 1, 'document': 1, 'thomson': 1, 'reuters': 1, 'claim': 1, 'original': 1, 'government': 1, 'works': 1, 'citing': 1, 'references': 1, 'date': 1, 'booker': 1, 'joness': 1, 'admx': 1, 'counts': 1, 'saffold': 1, 'dec': 1, 'lehman': 1, 'durr': 1, 'co': 1, 'marshall': 1, 'bibb': 1, 'janney': 1, 'garnishment': 1, 'wages': 1, 'waiver': 1, 'mckenzie': 1, 'lampley': 1, 'barbour': 1, 'evans': 1, 'lamar': 1, 'autauga': 1, 'moore': 1, 'jun': 1, 'dewey': 1, 'bowman': 1, 'jacob': 1, 'reversed': 1, 'reasons': 1, 'finding': 1, 'far': 1, 'concerned': 1, 'jul': 1, 'rees': 1, 'coats': 1, 'etowah': 1, 'wm': 1, 'l': 1, 'whitlock': 1, 'edwards': 1, 'thompson': 1, 'sw': 1, 'tenn': 1, 'weakley': 1, 'annual': 1, 'planting': 1, 'chattels': 1, 'table': 1, 'authorities': 1, 'referenced': 1, 'quoted': 1, 'page': 1, 'number': 1, 'admissible': 1, 'contradict': 1, 'substantially': 1, 'vary': 1, 'quitclaimed': 1, 'land': 1, 'reserving': 1, 'port': 1, 'tuskaloosa': 1, 'let': 1, 'six': 1, 'years': 1, 'agreed': 1, 'render': 1, 'yield': 1, 'pay': 1, 'half': 1, 'rye': 1, 'grain': 1})\n"
          ],
          "name": "stdout"
        }
      ]
    },
    {
      "cell_type": "code",
      "metadata": {
        "id": "VCgqIK0yDDhy",
        "colab_type": "code",
        "outputId": "89bf3202-eef6-48b8-86a5-26b0107fb3a8",
        "colab": {
          "base_uri": "https://localhost:8080/",
          "height": 232
        }
      },
      "source": [
        "#n-grams\n",
        "import nltk\n",
        "from nltk.util import ngrams\n",
        "def n_gram(n):\n",
        "  p=[]\n",
        "  for data in df['Data']:\n",
        "    n_grams = ngrams(nltk.word_tokenize(data),n)\n",
        "    for grams in n_grams:\n",
        "      p.append(' '.join(grams))\n",
        "  counters=collections.Counter(p)\n",
        "  print()\n",
        "  print(f\"Top 10 {n}-grams\")\n",
        "  print(counters.most_common(10))\n",
        "for n_g in range(1,4):\n",
        "    n_gram(n_g)"
      ],
      "execution_count": 0,
      "outputs": [
        {
          "output_type": "stream",
          "text": [
            "\n",
            "Top 10 1-grams\n",
            "[('law', 18), ('grow', 17), ('contract', 16), ('rep', 16), ('ala', 15), ('plaintiff', 15), ('posse', 14), ('attach', 14), ('cotton', 14), ('cite', 13)]\n",
            "\n",
            "Top 10 2-grams\n",
            "[('common law', 7), ('john rep', 6), ('ala ala', 6), ('tri hon', 6), ('fieri facial', 5), ('whippl foot', 4), ('appeal circuit', 4), ('error circuit', 3), ('attach favor', 3), ('allen harrison', 3)]\n",
            "\n",
            "Top 10 3-grams\n",
            "[('writ error circuit', 2), ('interest vest posse', 2), ('vest posse either', 2), ('posse either immedi', 2), ('either immedi futur', 2), ('immedi futur time', 2), ('case cite headnot', 2), ('upward fourteen thousand', 2), ('fourteen thousand dollar', 2), ('common law grow', 2)]\n"
          ],
          "name": "stdout"
        },
        {
          "output_type": "stream",
          "text": [
            "/usr/local/lib/python3.6/dist-packages/ipykernel_launcher.py:7: DeprecationWarning: generator 'ngrams' raised StopIteration\n",
            "  import sys\n"
          ],
          "name": "stderr"
        }
      ]
    },
    {
      "cell_type": "markdown",
      "metadata": {
        "id": "BBiC4E_kefvV",
        "colab_type": "text"
      },
      "source": [
        "# 2. Python Regular Expression"
      ]
    },
    {
      "cell_type": "markdown",
      "metadata": {
        "id": "Z1QJ-UwCenvN",
        "colab_type": "text"
      },
      "source": [
        "## 2.1 Write a Python program to remove leading zeros from an IP address. \n",
        "\n",
        "ip = \"260.08.094.109\""
      ]
    },
    {
      "cell_type": "code",
      "metadata": {
        "id": "wSv6fVhOfFmv",
        "colab_type": "code",
        "outputId": "5e544ecd-e1e7-4311-a92b-24afd6cc4165",
        "colab": {
          "base_uri": "https://localhost:8080/",
          "height": 35
        }
      },
      "source": [
        "# Write your code here\n",
        "import re\n",
        "def ip(n):\n",
        "  regular_expre= re.sub('\\.[0]*', '.', n)\n",
        "  print(f\"Updated IP address : {regular_expre}\")\n",
        "ip(\"260.08.094.109\")\n",
        "\n",
        "\n",
        "\n",
        "\n",
        "\n",
        "\n"
      ],
      "execution_count": 0,
      "outputs": [
        {
          "output_type": "stream",
          "text": [
            "Updated IP address : 260.8.94.109\n"
          ],
          "name": "stdout"
        }
      ]
    },
    {
      "cell_type": "markdown",
      "metadata": {
        "id": "PXRjaHzrfKAy",
        "colab_type": "text"
      },
      "source": [
        "## 2.2 Write a Python Program to extract all the years from the following sentence.\n",
        "\n",
        "sentence = \"The 2010s were a dramatic decade, filled with ups and downs, more than 1000 stroies have happened. As the decade comes to a close, Insider took a look back at some of the biggest headline-grabbing stories, from 2010 to 2019. The result was 119 news stories that ranged from the heartwarming rescue of a Thai boys' soccer team from a flooded cave to the divisive election of President Donald Trump.\""
      ]
    },
    {
      "cell_type": "code",
      "metadata": {
        "id": "7xdJpDx9gjbX",
        "colab_type": "code",
        "outputId": "319597d9-59f2-4fbe-db5e-8e8b205fcc85",
        "colab": {
          "base_uri": "https://localhost:8080/",
          "height": 35
        }
      },
      "source": [
        "# Write your code here\n",
        "def years_extract(n):\n",
        "  years=re.findall('\\d+',sentence) \n",
        "  print(years)\n",
        "years_extract(\"The 2010s were a dramatic decade, filled with ups and downs, more than 1000 stroies have happened. As the decade comes to a close, Insider took a look back at some of the biggest headline-grabbing stories, from 2010 to 2019. The result was 119 news stories that ranged from the heartwarming rescue of a Thai boys' soccer team from a flooded cave to the divisive election of President Donald Trump.\")\n"
      ],
      "execution_count": 0,
      "outputs": [
        {
          "output_type": "stream",
          "text": [
            "['2010', '1000', '2010', '2019', '119']\n"
          ],
          "name": "stdout"
        }
      ]
    },
    {
      "cell_type": "markdown",
      "metadata": {
        "id": "BOeGiVvtRHIX",
        "colab_type": "text"
      },
      "source": [
        ""
      ]
    },
    {
      "cell_type": "code",
      "metadata": {
        "id": "Qy4F35m1RBRu",
        "colab_type": "code",
        "colab": {}
      },
      "source": [
        ""
      ],
      "execution_count": 0,
      "outputs": []
    }
  ]
}